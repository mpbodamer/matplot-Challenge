{
 "cells": [
  {
   "cell_type": "markdown",
   "metadata": {},
   "source": [
    "# Observations\n",
    "## Observation 1\n",
    "    Overall, most of the treatements seemed to be limited in their effectiveness in reducing\n",
    "    tumor volume. As shown in the graph, \"Tumor Volume over Time, per Treatment\" we can see that\n",
    "    only Capomulin succeded in reducing the tumor volume at all, whereas Ketapril increased tumor\n",
    "    growth relative to the placebo, and Infubinol only managed to slow it.\n",
    "## Observation 2\n",
    "    As can be seen in the graph \"Metastatic Sites over Time, per Treatment\", Capomulin had the\n",
    "    most success in reducing the number of metastatic sites, which is expected since it was also\n",
    "    the best at reducing the tumor volume. However, Infubinol also appeared to be effective in\n",
    "    reducing the number of sites. By the end of the study, there was no appreciable difference\n",
    "    between Ketapril and the placebo. The combination of these two observations leads me to \n",
    "    doubt Ketapril's effectiveness.\n",
    "## Observation 3\n",
    "    The final graph, \"Survival Rate over Time, per Treatment\", continues the trends we have seen\n",
    "    up until now. Ketapril continues to perform no better than the placebo, while Capomulin leads\n",
    "    the treatments with the highest survival rate out of the group, followed by Infubinol. As a\n",
    "    combination of these observations, I would conclude that Capomulin is the most effective drug\n",
    "    in this group, followed by Infubinol. Ketapril seems to be either neutral or harmful relative\n",
    "    to the placebo."
   ]
  },
  {
   "cell_type": "code",
   "execution_count": null,
   "metadata": {},
   "outputs": [],
   "source": []
  }
 ],
 "metadata": {
  "kernelspec": {
   "display_name": "Python 3",
   "language": "python",
   "name": "python3"
  },
  "language_info": {
   "codemirror_mode": {
    "name": "ipython",
    "version": 3
   },
   "file_extension": ".py",
   "mimetype": "text/x-python",
   "name": "python",
   "nbconvert_exporter": "python",
   "pygments_lexer": "ipython3",
   "version": "3.7.3"
  }
 },
 "nbformat": 4,
 "nbformat_minor": 2
}
